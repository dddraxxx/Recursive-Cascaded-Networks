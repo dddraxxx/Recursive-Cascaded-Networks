{
 "cells": [
  {
   "cell_type": "code",
   "execution_count": 1,
   "metadata": {},
   "outputs": [],
   "source": [
    "import numpy as np\n",
    "import SimpleITK as sitk\n",
    "import pickle as pkl\n",
    "import os\n",
    "import h5py\n",
    "import matplotlib.pyplot as plt\n",
    "from pathlib import Path as pa\n",
    "from skimage.segmentation import find_boundaries"
   ]
  },
  {
   "cell_type": "code",
   "execution_count": null,
   "metadata": {},
   "outputs": [],
   "source": [
    "import ipyvolume as ipy\n",
    "ipy.plot_plane"
   ]
  },
  {
   "cell_type": "code",
   "execution_count": 6,
   "metadata": {},
   "outputs": [],
   "source": [
    "resultImage = sitk.Elastix(sitk.ReadImage(\"/mnt/sdc/lits/train/volume-0.nii\"), \\\n",
    "                           sitk.ReadImage(\"/mnt/sdc/lits/train/volume-1.nii\"), \\\n",
    "                           \"translation\")"
   ]
  },
  {
   "cell_type": "code",
   "execution_count": 3,
   "metadata": {},
   "outputs": [
    {
     "data": {
      "text/plain": [
       "<SimpleITK.SimpleITK.Image; proxy of <Swig Object of type 'std::vector< itk::simple::Image >::value_type *' at 0x7fbca0def150> >"
      ]
     },
     "execution_count": 3,
     "metadata": {},
     "output_type": "execute_result"
    }
   ],
   "source": [
    "sitk."
   ]
  },
  {
   "cell_type": "code",
   "execution_count": 5,
   "metadata": {},
   "outputs": [
    {
     "ename": "RuntimeError",
     "evalue": "Exception thrown in SimpleITK Show: /home/hynx/regis/SimpleElastix/Code/IO/src/sitkShow.cxx:501:\nsitk::ERROR: No appropriate executable found.",
     "output_type": "error",
     "traceback": [
      "\u001b[0;31m---------------------------------------------------------------------------\u001b[0m",
      "\u001b[0;31mRuntimeError\u001b[0m                              Traceback (most recent call last)",
      "\u001b[0;32m<ipython-input-5-17d925fdfd6d>\u001b[0m in \u001b[0;36m<module>\u001b[0;34m()\u001b[0m\n\u001b[0;32m----> 1\u001b[0;31m \u001b[0msitk\u001b[0m\u001b[0;34m.\u001b[0m\u001b[0mShow\u001b[0m\u001b[0;34m(\u001b[0m\u001b[0mresultImage\u001b[0m\u001b[0;34m)\u001b[0m\u001b[0;34m\u001b[0m\u001b[0;34m\u001b[0m\u001b[0m\n\u001b[0m",
      "\u001b[0;32m/home/hynx/miniconda3/envs/nnFormer/lib/python3.6/site-packages/SimpleITK-2.0.0rc2.dev910+ga138e-py3.6-linux-x86_64.egg/SimpleITK/SimpleITK.py\u001b[0m in \u001b[0;36mShow\u001b[0;34m(*args, **kwargs)\u001b[0m\n\u001b[1;32m   7987\u001b[0m \u001b[0;34m\u001b[0m\u001b[0m\n\u001b[1;32m   7988\u001b[0m     \"\"\"\n\u001b[0;32m-> 7989\u001b[0;31m     \u001b[0;32mreturn\u001b[0m \u001b[0m_SimpleITK\u001b[0m\u001b[0;34m.\u001b[0m\u001b[0mShow\u001b[0m\u001b[0;34m(\u001b[0m\u001b[0;34m*\u001b[0m\u001b[0margs\u001b[0m\u001b[0;34m,\u001b[0m \u001b[0;34m**\u001b[0m\u001b[0mkwargs\u001b[0m\u001b[0;34m)\u001b[0m\u001b[0;34m\u001b[0m\u001b[0;34m\u001b[0m\u001b[0m\n\u001b[0m\u001b[1;32m   7990\u001b[0m \u001b[0;32mclass\u001b[0m \u001b[0mImageFileWriter\u001b[0m\u001b[0;34m(\u001b[0m\u001b[0mProcessObject\u001b[0m\u001b[0;34m)\u001b[0m\u001b[0;34m:\u001b[0m\u001b[0;34m\u001b[0m\u001b[0;34m\u001b[0m\u001b[0m\n\u001b[1;32m   7991\u001b[0m     \"\"\"\n",
      "\u001b[0;31mRuntimeError\u001b[0m: Exception thrown in SimpleITK Show: /home/hynx/regis/SimpleElastix/Code/IO/src/sitkShow.cxx:501:\nsitk::ERROR: No appropriate executable found."
     ]
    }
   ],
   "source": [
    "sitk.Show(resultImage)"
   ]
  },
  {
   "cell_type": "code",
   "execution_count": null,
   "metadata": {},
   "outputs": [],
   "source": [
    "def make_tumour_image(tumour_im, tumour_msk, clean_im, clean_msk):\n",
    "    '''\n",
    "    imitate pressure of the tumour'''\n",
    "    # get tumour centroid\n",
    "    tumour_centroid = np.array(np.nonzero(tumour_msk == 2)).mean(axis=1)\n",
    "    # get border coordinate of tumour\n",
    "    \n",
    "    # get scale 1 border\n",
    "    # pick origin \n",
    "    origin = (64,64,64)\n",
    "    # get coordinate by origin\n",
    "    h, w, d = tumour_im.shape\n",
    "    ox, oy, oz = origin\n",
    "    xx, yy, zz = np.meshgrid(np.arange(0, h), np.arange(0, w), np.arange(0, d), indexing='ij')\n",
    "    xx = xx - ox; yy = yy - oy; zz = zz - oz;\n",
    "    # scale clean_im by origin"
   ]
  }
 ],
 "metadata": {
  "kernelspec": {
   "display_name": "Python 3",
   "language": "python",
   "name": "python3"
  },
  "language_info": {
   "codemirror_mode": {
    "name": "ipython",
    "version": 3
   },
   "file_extension": ".py",
   "mimetype": "text/x-python",
   "name": "python",
   "nbconvert_exporter": "python",
   "pygments_lexer": "ipython3",
   "version": "3.6.13"
  },
  "vscode": {
   "interpreter": {
    "hash": "45b791b08232f65da906b1dd6ccc8b0664ad17ad103836e42c8cd9dd7c999693"
   }
  }
 },
 "nbformat": 4,
 "nbformat_minor": 2
}
